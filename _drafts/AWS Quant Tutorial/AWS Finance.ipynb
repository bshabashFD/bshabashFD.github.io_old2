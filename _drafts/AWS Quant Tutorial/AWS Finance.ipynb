{
 "cells": [
  {
   "cell_type": "markdown",
   "metadata": {},
   "source": [
    "# End-to-end Quantitative Trading \n",
    "\n",
    "## Employing Web Scrapping, AWS, and ML to Find Good Trades\n",
    "\n",
    "The idea of quantitative trading is the use of algorithms to make more informed and less passionate decisions regarding trades. There are many different methodologies which can be employed for quantitative trading. However, in this post I'd like to focus on the idea of building an end to end pipeline which will attempt to produce future predictions on price changes. \n",
    "\n",
    "Often times, a novice data scientist will be concerned with the process of building and optimizing a model, as well as producing buy-in to their ideas through the use of a convincing narrative and powerful visualizations. These steps are critical, but are not exhaustive. A full, simple, end-to-end framework will be concerned with these steps, but also with obtaining data, finding the right platform for the analysis to run, and performing all these steps in a reproducible way (in case a more senior data scientist would like to reproduce them).\n",
    "\n",
    "This set of posts will break down the workflow into three major parts:\n",
    "\n",
    "1. Obtain the data, and prepare it for modeling\n",
    "2. Run a set of models on Amazon Web Service (AWS) and collect the best one\n",
    "3. Prepare a simple summary of all observations during step 2."
   ]
  },
  {
   "cell_type": "markdown",
   "metadata": {},
   "source": [
    "## Step 1. Obtain the data\n",
    "\n",
    "Since we are interested in historic data for stocks there are several available options. Quandl is a service which can provide daily stock data (in minute to minute intervals), but it costs money. For this post I will opt out for the free option, and employ Yahoo Finance.\n",
    "\n",
    "Navigating to the Yahoo Finance website you will be greeted with the following page, and a download button within it. The link from the download link will look like this<br>\n",
    "https://query1.finance.yahoo.com/v7/finance/download/AAPL?period1=1420095600&period2=1577862000&interval=1d&events=history&crumb=X68TFb4PiMR\n",
    "\n",
    "There are four important parameters embedded in this link: \n",
    "\n",
    "* `AAPL` - the stock we are interested in, in this case it is AAPL (Apple Inc)\n",
    "* `period1=1420095600` - a timestamp of the start period (this timestamp is actually Jan 1st, 2015, 7am)\n",
    "* `period2=1577862000` - another timestamp for the end period (this one is Jan 1st, 2020, 7am)\n",
    "* `crumb=X68TFb4PiMR` - this is an authentication token which makes the link valid, no request will work without it\n"
   ]
  },
  {
   "cell_type": "code",
   "execution_count": null,
   "metadata": {},
   "outputs": [],
   "source": []
  }
 ],
 "metadata": {
  "kernelspec": {
   "display_name": "Python 3",
   "language": "python",
   "name": "python3"
  },
  "language_info": {
   "codemirror_mode": {
    "name": "ipython",
    "version": 3
   },
   "file_extension": ".py",
   "mimetype": "text/x-python",
   "name": "python",
   "nbconvert_exporter": "python",
   "pygments_lexer": "ipython3",
   "version": "3.7.3"
  }
 },
 "nbformat": 4,
 "nbformat_minor": 2
}
